{
 "cells": [
  {
   "cell_type": "code",
   "execution_count": 4,
   "metadata": {},
   "outputs": [],
   "source": [
    "import pandas as pd\n",
    "import matplotlib.pyplot as plt\n",
    "from alpha_vantage.timeseries import TimeSeries\n"
   ]
  },
  {
   "cell_type": "code",
   "execution_count": 8,
   "metadata": {},
   "outputs": [],
   "source": [
    "key=open(f'D:/1_alpha_vantage.txt').read()"
   ]
  },
  {
   "cell_type": "code",
   "execution_count": 10,
   "metadata": {},
   "outputs": [],
   "source": [
    "ts=TimeSeries(key,output_format='pandas')\n",
    "data,meta=ts.get_intraday('TSLA',interval='1min',outputsize='full')"
   ]
  },
  {
   "cell_type": "code",
   "execution_count": 11,
   "metadata": {},
   "outputs": [
    {
     "data": {
      "text/plain": [
       "{'1. Information': 'Intraday (1min) open, high, low, close prices and volume',\n",
       " '2. Symbol': 'TSLA',\n",
       " '3. Last Refreshed': '2024-03-19 19:59:00',\n",
       " '4. Interval': '1min',\n",
       " '5. Output Size': 'Full size',\n",
       " '6. Time Zone': 'US/Eastern'}"
      ]
     },
     "execution_count": 11,
     "metadata": {},
     "output_type": "execute_result"
    }
   ],
   "source": [
    "meta"
   ]
  },
  {
   "cell_type": "code",
   "execution_count": 12,
   "metadata": {},
   "outputs": [
    {
     "name": "stdout",
     "output_type": "stream",
     "text": [
      "<class 'pandas.core.frame.DataFrame'>\n",
      "DatetimeIndex: 15360 entries, 2024-03-19 19:59:00 to 2024-02-27 04:00:00\n",
      "Data columns (total 5 columns):\n",
      " #   Column     Non-Null Count  Dtype  \n",
      "---  ------     --------------  -----  \n",
      " 0   1. open    15360 non-null  float64\n",
      " 1   2. high    15360 non-null  float64\n",
      " 2   3. low     15360 non-null  float64\n",
      " 3   4. close   15360 non-null  float64\n",
      " 4   5. volume  15360 non-null  float64\n",
      "dtypes: float64(5)\n",
      "memory usage: 720.0 KB\n"
     ]
    }
   ],
   "source": [
    "data.info()"
   ]
  },
  {
   "cell_type": "code",
   "execution_count": 13,
   "metadata": {},
   "outputs": [
    {
     "data": {
      "text/html": [
       "<div>\n",
       "<style scoped>\n",
       "    .dataframe tbody tr th:only-of-type {\n",
       "        vertical-align: middle;\n",
       "    }\n",
       "\n",
       "    .dataframe tbody tr th {\n",
       "        vertical-align: top;\n",
       "    }\n",
       "\n",
       "    .dataframe thead th {\n",
       "        text-align: right;\n",
       "    }\n",
       "</style>\n",
       "<table border=\"1\" class=\"dataframe\">\n",
       "  <thead>\n",
       "    <tr style=\"text-align: right;\">\n",
       "      <th></th>\n",
       "      <th>1. open</th>\n",
       "      <th>2. high</th>\n",
       "      <th>3. low</th>\n",
       "      <th>4. close</th>\n",
       "      <th>5. volume</th>\n",
       "    </tr>\n",
       "    <tr>\n",
       "      <th>date</th>\n",
       "      <th></th>\n",
       "      <th></th>\n",
       "      <th></th>\n",
       "      <th></th>\n",
       "      <th></th>\n",
       "    </tr>\n",
       "  </thead>\n",
       "  <tbody>\n",
       "    <tr>\n",
       "      <th>2024-03-19 19:59:00</th>\n",
       "      <td>171.46</td>\n",
       "      <td>171.61</td>\n",
       "      <td>171.46</td>\n",
       "      <td>171.585</td>\n",
       "      <td>4060.0</td>\n",
       "    </tr>\n",
       "    <tr>\n",
       "      <th>2024-03-19 19:58:00</th>\n",
       "      <td>171.58</td>\n",
       "      <td>171.74</td>\n",
       "      <td>171.44</td>\n",
       "      <td>171.460</td>\n",
       "      <td>7967.0</td>\n",
       "    </tr>\n",
       "    <tr>\n",
       "      <th>2024-03-19 19:57:00</th>\n",
       "      <td>171.47</td>\n",
       "      <td>171.58</td>\n",
       "      <td>171.43</td>\n",
       "      <td>171.500</td>\n",
       "      <td>2083.0</td>\n",
       "    </tr>\n",
       "    <tr>\n",
       "      <th>2024-03-19 19:56:00</th>\n",
       "      <td>171.51</td>\n",
       "      <td>171.55</td>\n",
       "      <td>171.43</td>\n",
       "      <td>171.500</td>\n",
       "      <td>1290.0</td>\n",
       "    </tr>\n",
       "    <tr>\n",
       "      <th>2024-03-19 19:55:00</th>\n",
       "      <td>171.49</td>\n",
       "      <td>171.53</td>\n",
       "      <td>171.45</td>\n",
       "      <td>171.500</td>\n",
       "      <td>2965.0</td>\n",
       "    </tr>\n",
       "  </tbody>\n",
       "</table>\n",
       "</div>"
      ],
      "text/plain": [
       "                     1. open  2. high  3. low  4. close  5. volume\n",
       "date                                                              \n",
       "2024-03-19 19:59:00   171.46   171.61  171.46   171.585     4060.0\n",
       "2024-03-19 19:58:00   171.58   171.74  171.44   171.460     7967.0\n",
       "2024-03-19 19:57:00   171.47   171.58  171.43   171.500     2083.0\n",
       "2024-03-19 19:56:00   171.51   171.55  171.43   171.500     1290.0\n",
       "2024-03-19 19:55:00   171.49   171.53  171.45   171.500     2965.0"
      ]
     },
     "execution_count": 13,
     "metadata": {},
     "output_type": "execute_result"
    }
   ],
   "source": [
    "data.head("
   ]
  },
  {
   "cell_type": "code",
   "execution_count": 16,
   "metadata": {},
   "outputs": [
    {
     "data": {
      "text/html": [
       "<div>\n",
       "<style scoped>\n",
       "    .dataframe tbody tr th:only-of-type {\n",
       "        vertical-align: middle;\n",
       "    }\n",
       "\n",
       "    .dataframe tbody tr th {\n",
       "        vertical-align: top;\n",
       "    }\n",
       "\n",
       "    .dataframe thead th {\n",
       "        text-align: right;\n",
       "    }\n",
       "</style>\n",
       "<table border=\"1\" class=\"dataframe\">\n",
       "  <thead>\n",
       "    <tr style=\"text-align: right;\">\n",
       "      <th></th>\n",
       "      <th>1. open</th>\n",
       "      <th>2. high</th>\n",
       "      <th>3. low</th>\n",
       "      <th>4. close</th>\n",
       "      <th>5. volume</th>\n",
       "    </tr>\n",
       "    <tr>\n",
       "      <th>date</th>\n",
       "      <th></th>\n",
       "      <th></th>\n",
       "      <th></th>\n",
       "      <th></th>\n",
       "      <th></th>\n",
       "    </tr>\n",
       "  </thead>\n",
       "  <tbody>\n",
       "    <tr>\n",
       "      <th>2024-02-27 04:04:00</th>\n",
       "      <td>199.97</td>\n",
       "      <td>200.12</td>\n",
       "      <td>199.91</td>\n",
       "      <td>199.97</td>\n",
       "      <td>7297.0</td>\n",
       "    </tr>\n",
       "    <tr>\n",
       "      <th>2024-02-27 04:03:00</th>\n",
       "      <td>199.99</td>\n",
       "      <td>200.00</td>\n",
       "      <td>199.89</td>\n",
       "      <td>199.93</td>\n",
       "      <td>3983.0</td>\n",
       "    </tr>\n",
       "    <tr>\n",
       "      <th>2024-02-27 04:02:00</th>\n",
       "      <td>199.90</td>\n",
       "      <td>200.02</td>\n",
       "      <td>199.90</td>\n",
       "      <td>199.98</td>\n",
       "      <td>3886.0</td>\n",
       "    </tr>\n",
       "    <tr>\n",
       "      <th>2024-02-27 04:01:00</th>\n",
       "      <td>199.97</td>\n",
       "      <td>200.00</td>\n",
       "      <td>199.80</td>\n",
       "      <td>199.90</td>\n",
       "      <td>3106.0</td>\n",
       "    </tr>\n",
       "    <tr>\n",
       "      <th>2024-02-27 04:00:00</th>\n",
       "      <td>199.75</td>\n",
       "      <td>200.00</td>\n",
       "      <td>199.55</td>\n",
       "      <td>199.95</td>\n",
       "      <td>4871.0</td>\n",
       "    </tr>\n",
       "  </tbody>\n",
       "</table>\n",
       "</div>"
      ],
      "text/plain": [
       "                     1. open  2. high  3. low  4. close  5. volume\n",
       "date                                                              \n",
       "2024-02-27 04:04:00   199.97   200.12  199.91    199.97     7297.0\n",
       "2024-02-27 04:03:00   199.99   200.00  199.89    199.93     3983.0\n",
       "2024-02-27 04:02:00   199.90   200.02  199.90    199.98     3886.0\n",
       "2024-02-27 04:01:00   199.97   200.00  199.80    199.90     3106.0\n",
       "2024-02-27 04:00:00   199.75   200.00  199.55    199.95     4871.0"
      ]
     },
     "execution_count": 16,
     "metadata": {},
     "output_type": "execute_result"
    }
   ],
   "source": [
    "data.tail()"
   ]
  },
  {
   "cell_type": "code",
   "execution_count": null,
   "metadata": {},
   "outputs": [],
   "source": []
  }
 ],
 "metadata": {
  "kernelspec": {
   "display_name": "Python 3",
   "language": "python",
   "name": "python3"
  },
  "language_info": {
   "codemirror_mode": {
    "name": "ipython",
    "version": 3
   },
   "file_extension": ".py",
   "mimetype": "text/x-python",
   "name": "python",
   "nbconvert_exporter": "python",
   "pygments_lexer": "ipython3",
   "version": "3.11.8"
  }
 },
 "nbformat": 4,
 "nbformat_minor": 2
}
